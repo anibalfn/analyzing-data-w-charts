{
 "cells": [
  {
   "cell_type": "code",
   "execution_count": null,
   "id": "68c89d61",
   "metadata": {},
   "outputs": [],
   "source": [
    "### Imports\n",
    "\n",
    "import pandas as pd\n",
    "import plotly_express as px\n",
    "data = pd.read_excel(\"vendas.xlsx\")"
   ]
  },
  {
   "cell_type": "code",
   "execution_count": null,
   "id": "a0df226b",
   "metadata": {},
   "outputs": [],
   "source": [
    "### Shows the first five data conjunct of the document;\n",
    "data.head()"
   ]
  },
  {
   "cell_type": "code",
   "execution_count": null,
   "id": "d9a8d0c6",
   "metadata": {},
   "outputs": [],
   "source": [
    "### Shows the last five data conjunct of the document;\n",
    "data.tail()"
   ]
  },
  {
   "cell_type": "code",
   "execution_count": null,
   "id": "eb06b0cf",
   "metadata": {},
   "outputs": [],
   "source": [
    "### Verify how many rows and columns exists in the document;\n",
    "data.shape"
   ]
  },
  {
   "cell_type": "code",
   "execution_count": null,
   "id": "8d6c3eb9",
   "metadata": {},
   "outputs": [],
   "source": [
    "### Generate important data about the document;\n",
    "data.info()"
   ]
  },
  {
   "cell_type": "code",
   "execution_count": null,
   "id": "d92c4f86",
   "metadata": {},
   "outputs": [],
   "source": [
    "### Generate statistics about all quantitative columns;\n",
    "data.describe()"
   ]
  },
  {
   "cell_type": "code",
   "execution_count": null,
   "id": "423a3f9c",
   "metadata": {},
   "outputs": [],
   "source": [
    "### Accessing only a column;\n",
    "data['loja']"
   ]
  },
  {
   "cell_type": "code",
   "execution_count": null,
   "id": "3ffa67a2",
   "metadata": {},
   "outputs": [],
   "source": [
    "### Obtaining unique values from a column;\n",
    "data['loja'].unique()"
   ]
  },
  {
   "cell_type": "code",
   "execution_count": null,
   "id": "c90124b9",
   "metadata": {},
   "outputs": [],
   "source": [
    "### Counting column values;\n",
    "data['loja'].value_counts()"
   ]
  },
  {
   "cell_type": "code",
   "execution_count": null,
   "id": "c3c2dbcd",
   "metadata": {},
   "outputs": [],
   "source": [
    "### To obtain relative value;\n",
    "data['loja'].value_counts(normalize=True)"
   ]
  },
  {
   "cell_type": "code",
   "execution_count": null,
   "id": "d429889e",
   "metadata": {},
   "outputs": [],
   "source": [
    "### Agrouping data utilizing groupby()\n",
    "### Billing per store:\n",
    "data.groupby('loja').preco.sum ()"
   ]
  },
  {
   "cell_type": "code",
   "execution_count": null,
   "id": "fad1c8c6",
   "metadata": {},
   "outputs": [],
   "source": [
    "### Billing per store medium:\n",
    "data.groupby('loja').preco.mean ()"
   ]
  },
  {
   "cell_type": "code",
   "execution_count": null,
   "id": "6c366ddd",
   "metadata": {},
   "outputs": [],
   "source": [
    "### Making charts: counting of orders per shop\n",
    "px.histogram(data, x='loja', color='regiao', text_auto=True)"
   ]
  },
  {
   "cell_type": "code",
   "execution_count": null,
   "id": "dfa0b2ba",
   "metadata": {},
   "outputs": [],
   "source": []
  },
  {
   "cell_type": "code",
   "execution_count": null,
   "id": "8a93ac38",
   "metadata": {},
   "outputs": [],
   "source": []
  },
  {
   "cell_type": "code",
   "execution_count": null,
   "id": "900a280f",
   "metadata": {},
   "outputs": [],
   "source": []
  },
  {
   "cell_type": "code",
   "execution_count": null,
   "id": "6078d99f",
   "metadata": {},
   "outputs": [],
   "source": []
  },
  {
   "cell_type": "code",
   "execution_count": null,
   "id": "0ff74a14",
   "metadata": {},
   "outputs": [],
   "source": []
  }
 ],
 "metadata": {
  "kernelspec": {
   "display_name": "Python 3 (ipykernel)",
   "language": "python",
   "name": "python3"
  },
  "language_info": {
   "codemirror_mode": {
    "name": "ipython",
    "version": 3
   },
   "file_extension": ".py",
   "mimetype": "text/x-python",
   "name": "python",
   "nbconvert_exporter": "python",
   "pygments_lexer": "ipython3",
   "version": "3.11.5"
  }
 },
 "nbformat": 4,
 "nbformat_minor": 5
}
