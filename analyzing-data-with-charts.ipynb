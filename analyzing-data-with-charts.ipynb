{
 "cells": [
  {
   "cell_type": "code",
   "execution_count": null,
   "id": "7e6c3c6d",
   "metadata": {},
   "outputs": [],
   "source": [
    "### Imports\n",
    "\n",
    "import pandas as pd\n",
    "import plotly_express as px\n",
    "data = pd.read_excel(\"vendas.xlsx\")"
   ]
  },
  {
   "cell_type": "code",
   "execution_count": null,
   "id": "397db396",
   "metadata": {},
   "outputs": [],
   "source": [
    "### Shows the first five data conjunct of the document;\n",
    "data.head()"
   ]
  },
  {
   "cell_type": "code",
   "execution_count": null,
   "id": "a9a1a6c8",
   "metadata": {},
   "outputs": [],
   "source": [
    "### Shows the last five data conjunct of the document;\n",
    "data.tail()"
   ]
  },
  {
   "cell_type": "code",
   "execution_count": null,
   "id": "c25360fc",
   "metadata": {},
   "outputs": [],
   "source": [
    "### Verify how many rows and columns exists in the document;\n",
    "data.shape"
   ]
  },
  {
   "cell_type": "code",
   "execution_count": null,
   "id": "6f2749c9",
   "metadata": {},
   "outputs": [],
   "source": [
    "### Generate important data about the document;\n",
    "data.info()"
   ]
  },
  {
   "cell_type": "code",
   "execution_count": null,
   "id": "e063f2cd",
   "metadata": {},
   "outputs": [],
   "source": [
    "### Generate statistics about all quantitative columns;\n",
    "data.describe()"
   ]
  },
  {
   "cell_type": "code",
   "execution_count": null,
   "id": "44e489f6",
   "metadata": {},
   "outputs": [],
   "source": [
    "### Accessing only a column;\n",
    "data['loja']"
   ]
  },
  {
   "cell_type": "code",
   "execution_count": null,
   "id": "ce6aa774",
   "metadata": {},
   "outputs": [],
   "source": [
    "### Obtaining unique values from a column;\n",
    "data['loja'].unique()"
   ]
  },
  {
   "cell_type": "code",
   "execution_count": null,
   "id": "1f1a5071",
   "metadata": {},
   "outputs": [],
   "source": [
    "### Counting column values;\n",
    "data['loja'].value_counts()"
   ]
  },
  {
   "cell_type": "code",
   "execution_count": null,
   "id": "d7a57d5c",
   "metadata": {},
   "outputs": [],
   "source": [
    "### To obtain relative value;\n",
    "data['loja'].value_counts(normalize=True)"
   ]
  },
  {
   "cell_type": "code",
   "execution_count": null,
   "id": "1114c176",
   "metadata": {},
   "outputs": [],
   "source": [
    "### Agrouping data utilizing groupby()\n",
    "### Billing per store:\n",
    "data.groupby('loja').preco.sum ()"
   ]
  },
  {
   "cell_type": "code",
   "execution_count": null,
   "id": "017b1955",
   "metadata": {},
   "outputs": [],
   "source": [
    "### Billing per store medium:\n",
    "data.groupby('loja').preco.mean ()"
   ]
  },
  {
   "cell_type": "code",
   "execution_count": null,
   "id": "3d77a84e",
   "metadata": {},
   "outputs": [],
   "source": [
    "### Making charts: counting of orders per shop\n",
    "px.histogram(data, x='loja', color='regiao', text_auto=True)"
   ]
  },
  {
   "cell_type": "code",
   "execution_count": null,
   "id": "678b743b",
   "metadata": {},
   "outputs": [],
   "source": [
    "### Creating multiple charts\n",
    "\n",
    "columns = ['loja', 'cidade', 'estado', 'tamanho', 'local_consumo']\n",
    "for coluna in columns:\n",
    "    fig = px.histogram(data, x=coluna, y='preco', color='forma_pagamento', text_auto=True)\n",
    "    fig.show()"
   ]
  },
  {
   "cell_type": "code",
   "execution_count": null,
   "id": "9223ca7c",
   "metadata": {},
   "outputs": [],
   "source": [
    "### Export charts as img;\n",
    "### fig.write_image(\"exports/chart.jpg\") -- Change the directory to the directory you want;\n",
    "\n",
    "### Export charts as HTML:\n",
    "### fig.write_html(\"filename(include path).html\")\n",
    "### fig.write_html(\"sample/test.html\") #Save the file as test.html under the sample directory. "
   ]
  },
  {
   "cell_type": "code",
   "execution_count": null,
   "id": "b6fc4d34",
   "metadata": {},
   "outputs": [],
   "source": []
  },
  {
   "cell_type": "code",
   "execution_count": null,
   "id": "ed564459",
   "metadata": {},
   "outputs": [],
   "source": []
  },
  {
   "cell_type": "code",
   "execution_count": null,
   "id": "fb1d9f70",
   "metadata": {},
   "outputs": [],
   "source": []
  }
 ],
 "metadata": {
  "kernelspec": {
   "display_name": "Python 3 (ipykernel)",
   "language": "python",
   "name": "python3"
  },
  "language_info": {
   "codemirror_mode": {
    "name": "ipython",
    "version": 3
   },
   "file_extension": ".py",
   "mimetype": "text/x-python",
   "name": "python",
   "nbconvert_exporter": "python",
   "pygments_lexer": "ipython3",
   "version": "3.11.5"
  }
 },
 "nbformat": 4,
 "nbformat_minor": 5
}
