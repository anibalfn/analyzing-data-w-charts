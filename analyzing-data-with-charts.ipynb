{
 "cells": [
  {
   "cell_type": "code",
   "execution_count": null,
   "id": "753a7274",
   "metadata": {},
   "outputs": [],
   "source": [
    "### Imports\n",
    "\n",
    "import pandas as pd\n",
    "import plotly_express as px\n",
    "data = pd.read_excel(\"vendas.xlsx\")"
   ]
  },
  {
   "cell_type": "code",
   "execution_count": null,
   "id": "00a253d5",
   "metadata": {},
   "outputs": [],
   "source": [
    "### Shows the first five data conjunct of the document;\n",
    "data.head()"
   ]
  },
  {
   "cell_type": "code",
   "execution_count": null,
   "id": "7882e813",
   "metadata": {},
   "outputs": [],
   "source": [
    "### Shows the last five data conjunct of the document;\n",
    "data.tail()"
   ]
  },
  {
   "cell_type": "code",
   "execution_count": null,
   "id": "6b2e7ade",
   "metadata": {},
   "outputs": [],
   "source": [
    "### Verify how many rows and columns exists in the document;\n",
    "data.shape"
   ]
  },
  {
   "cell_type": "code",
   "execution_count": null,
   "id": "be1e3a90",
   "metadata": {},
   "outputs": [],
   "source": [
    "### Generate important data about the document;\n",
    "data.info()"
   ]
  },
  {
   "cell_type": "code",
   "execution_count": null,
   "id": "58d58b67",
   "metadata": {},
   "outputs": [],
   "source": [
    "### Generate statistics about all quantitative columns;\n",
    "data.describe()"
   ]
  },
  {
   "cell_type": "code",
   "execution_count": null,
   "id": "16c7c5eb",
   "metadata": {},
   "outputs": [],
   "source": [
    "### Accessing only a column;\n",
    "data['loja']"
   ]
  },
  {
   "cell_type": "code",
   "execution_count": null,
   "id": "440bdb21",
   "metadata": {},
   "outputs": [],
   "source": [
    "### Obtaining unique values from a column;\n",
    "data['loja'].unique()"
   ]
  },
  {
   "cell_type": "code",
   "execution_count": null,
   "id": "adb00b45",
   "metadata": {},
   "outputs": [],
   "source": [
    "### Counting column values;\n",
    "data['loja'].value_counts()"
   ]
  },
  {
   "cell_type": "code",
   "execution_count": null,
   "id": "dafccf6f",
   "metadata": {},
   "outputs": [],
   "source": [
    "### To obtain relative value;\n",
    "data['loja'].value_counts(normalize=True)"
   ]
  },
  {
   "cell_type": "code",
   "execution_count": null,
   "id": "c1039cb4",
   "metadata": {},
   "outputs": [],
   "source": [
    "### Agrouping data utilizing groupby()\n",
    "### Billing per store:\n",
    "data.groupby('loja').preco.sum ()"
   ]
  },
  {
   "cell_type": "code",
   "execution_count": null,
   "id": "5000d8da",
   "metadata": {},
   "outputs": [],
   "source": []
  },
  {
   "cell_type": "code",
   "execution_count": null,
   "id": "678b92ce",
   "metadata": {},
   "outputs": [],
   "source": []
  },
  {
   "cell_type": "code",
   "execution_count": null,
   "id": "8d16bc59",
   "metadata": {},
   "outputs": [],
   "source": []
  }
 ],
 "metadata": {
  "kernelspec": {
   "display_name": "Python 3 (ipykernel)",
   "language": "python",
   "name": "python3"
  },
  "language_info": {
   "codemirror_mode": {
    "name": "ipython",
    "version": 3
   },
   "file_extension": ".py",
   "mimetype": "text/x-python",
   "name": "python",
   "nbconvert_exporter": "python",
   "pygments_lexer": "ipython3",
   "version": "3.11.5"
  }
 },
 "nbformat": 4,
 "nbformat_minor": 5
}
