{
 "cells": [
  {
   "cell_type": "code",
   "execution_count": null,
   "id": "749787af",
   "metadata": {},
   "outputs": [],
   "source": [
    "### Imports\n",
    "\n",
    "import pandas as pd\n",
    "import plotly_express as px\n",
    "data = pd.read_excel(\"vendas.xlsx\")"
   ]
  },
  {
   "cell_type": "code",
   "execution_count": null,
   "id": "5b884579",
   "metadata": {},
   "outputs": [],
   "source": [
    "### Shows the first five data conjunct of the document;\n",
    "data.head()"
   ]
  },
  {
   "cell_type": "code",
   "execution_count": null,
   "id": "821144c4",
   "metadata": {},
   "outputs": [],
   "source": [
    "### Shows the last five data conjunct of the document;\n",
    "data.tail()"
   ]
  },
  {
   "cell_type": "code",
   "execution_count": null,
   "id": "4a2fe176",
   "metadata": {},
   "outputs": [],
   "source": [
    "### Verify how many rows and columns exists in the document;\n",
    "data.shape"
   ]
  },
  {
   "cell_type": "code",
   "execution_count": null,
   "id": "330357d2",
   "metadata": {},
   "outputs": [],
   "source": [
    "### Generate important data about the document;\n",
    "data.info()"
   ]
  },
  {
   "cell_type": "code",
   "execution_count": null,
   "id": "3b6e836d",
   "metadata": {},
   "outputs": [],
   "source": [
    "### Generate statistics about all quantitative columns;\n",
    "data.describe()"
   ]
  },
  {
   "cell_type": "code",
   "execution_count": null,
   "id": "e8216888",
   "metadata": {},
   "outputs": [],
   "source": [
    "### Accessing only a column;\n",
    "data['loja']"
   ]
  },
  {
   "cell_type": "code",
   "execution_count": null,
   "id": "225aac6f",
   "metadata": {},
   "outputs": [],
   "source": [
    "### Obtaining unique values from a column;\n",
    "data['loja'].unique()"
   ]
  },
  {
   "cell_type": "code",
   "execution_count": null,
   "id": "5ae6f9a6",
   "metadata": {},
   "outputs": [],
   "source": [
    "### Counting column values;\n",
    "data['loja'].value_counts()"
   ]
  },
  {
   "cell_type": "code",
   "execution_count": null,
   "id": "8cf55d1d",
   "metadata": {},
   "outputs": [],
   "source": [
    "### To obtain relative value;\n",
    "data['loja'].value_counts(normalize=True)"
   ]
  },
  {
   "cell_type": "code",
   "execution_count": null,
   "id": "0817bf10",
   "metadata": {},
   "outputs": [],
   "source": [
    "### Agrouping data utilizing groupby()\n",
    "### Billing per store:\n",
    "data.groupby('loja').preco.sum ()"
   ]
  },
  {
   "cell_type": "code",
   "execution_count": null,
   "id": "f93b4cd5",
   "metadata": {},
   "outputs": [],
   "source": [
    "### Billing per store medium:\n",
    "data.groupby('loja').preco.mean ()"
   ]
  },
  {
   "cell_type": "code",
   "execution_count": null,
   "id": "de98e3d2",
   "metadata": {},
   "outputs": [],
   "source": [
    "### Making charts: counting of orders per shop\n",
    "px.histogram(data, x='loja', color='regiao', text_auto=True)"
   ]
  },
  {
   "cell_type": "code",
   "execution_count": null,
   "id": "fd7a5841",
   "metadata": {},
   "outputs": [],
   "source": [
    "### Creating multiple charts\n",
    "\n",
    "columns = ['loja', 'cidade', 'estado', 'tamanho', 'local_consumo']\n",
    "for coluna in columns:\n",
    "    fig = px.histogram(data, x=coluna, y='preco', color='forma_pagamento', text_auto=True)\n",
    "    fig.show()"
   ]
  },
  {
   "cell_type": "code",
   "execution_count": null,
   "id": "8ac48b7e",
   "metadata": {},
   "outputs": [],
   "source": []
  },
  {
   "cell_type": "code",
   "execution_count": null,
   "id": "ca8c011e",
   "metadata": {},
   "outputs": [],
   "source": []
  },
  {
   "cell_type": "code",
   "execution_count": null,
   "id": "e72294e7",
   "metadata": {},
   "outputs": [],
   "source": []
  },
  {
   "cell_type": "code",
   "execution_count": null,
   "id": "015de2e8",
   "metadata": {},
   "outputs": [],
   "source": []
  }
 ],
 "metadata": {
  "kernelspec": {
   "display_name": "Python 3 (ipykernel)",
   "language": "python",
   "name": "python3"
  },
  "language_info": {
   "codemirror_mode": {
    "name": "ipython",
    "version": 3
   },
   "file_extension": ".py",
   "mimetype": "text/x-python",
   "name": "python",
   "nbconvert_exporter": "python",
   "pygments_lexer": "ipython3",
   "version": "3.11.5"
  }
 },
 "nbformat": 4,
 "nbformat_minor": 5
}
